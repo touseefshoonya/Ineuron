{
 "cells": [
  {
   "cell_type": "code",
   "execution_count": null,
   "id": "d9431585",
   "metadata": {},
   "outputs": [],
   "source": [
    "import openpyxl\n",
    "import random\n",
    "import string\n",
    "import pyautogui\n",
    "import time\n",
    "\n",
    "def write_random_data_to_excel(sheet, rows, columns):\n",
    "    for row in range(1, rows + 1):\n",
    "        for column in range(1, columns + 1):\n",
    "            random_data = f\"{random.randint(1, 100)}{random.choice(string.ascii_uppercase)}\"\n",
    "            sheet.cell(row=row, column=column, value=random_data)\n",
    "\n",
    "def random_mouse_movement_and_click():\n",
    "    start_time = time.time()\n",
    "    while time.time() - start_time < 10:\n",
    "        x, y = pyautogui.size()\n",
    "        random_x = random.randint(0, x)\n",
    "        random_y = random.randint(0, y)\n",
    "        pyautogui.moveTo(random_x, random_y, duration=0.2)\n",
    "        pyautogui.click()\n",
    "\n",
    "# Create a new Excel workbook and select the active sheet\n",
    "workbook = openpyxl.Workbook()\n",
    "sheet = workbook.active\n",
    "\n",
    "try:\n",
    "    while True:\n",
    "        write_random_data_to_excel(sheet, 10, 5)\n",
    "        workbook.save(\"random_data.xlsx\")\n",
    "\n",
    "        random_mouse_movement_and_click()\n",
    "\n",
    "        # Continue for 15 minutes (900 seconds) or until a key is pressed\n",
    "        start_time = time.time()\n",
    "        while time.time() - start_time < 900:\n",
    "            if pyautogui.keyPressed('esc'):\n",
    "                break\n",
    "            time.sleep(1)\n",
    "        else:\n",
    "            continue  # This will restart the loop if the 15 min timer is not interrupted\n",
    "        break  # Exit the loop if the 'esc' key is pressed\n",
    "\n",
    "except KeyboardInterrupt:\n",
    "    print(\"Task stopped by user.\")\n",
    "finally:\n",
    "    # Save and close the workbook\n",
    "    workbook.save(\"random_data.xlsx\")\n",
    "    workbook.close()\n"
   ]
  }
 ],
 "metadata": {
  "kernelspec": {
   "display_name": "Python 3 (ipykernel)",
   "language": "python",
   "name": "python3"
  },
  "language_info": {
   "codemirror_mode": {
    "name": "ipython",
    "version": 3
   },
   "file_extension": ".py",
   "mimetype": "text/x-python",
   "name": "python",
   "nbconvert_exporter": "python",
   "pygments_lexer": "ipython3",
   "version": "3.11.3"
  }
 },
 "nbformat": 4,
 "nbformat_minor": 5
}
