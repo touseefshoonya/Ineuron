{
 "cells": [
  {
   "cell_type": "markdown",
   "id": "6597d6bf",
   "metadata": {},
   "source": [
    "### 1.What is the primary goal of Object-Oriented Programming (OOP)?\n",
    "\n",
    "OOP which is also know as Object oriented programming which uses objects and class as main attributes while wring the programme.\n",
    "The main idea of OOPS is to bind data and functions together as a single unit.\n",
    "OOPS revolves around 4 basic building blocks:\n",
    "    \n",
    "A. Classes \n",
    "B. Objects\n",
    "C. Inheritance\n",
    "D. Polymorphism\n",
    "\n",
    "Goal of OOPS:\n",
    "\n",
    "    \n",
    "A. Blueprint: Breaking bigger piece of programm into smaller chunks where each peice is having its own charectaristics.    \n",
    "B. Reusibility: These small chunks are re-usable at different stages\n",
    "C. Connection: Providing easy connection between different parts of the program\n",
    "D. Private: To ensure things stay in order and nothing gets messed up\n",
    "\n",
    "\n",
    "\n",
    "\n"
   ]
  },
  {
   "cell_type": "markdown",
   "id": "c8d51267",
   "metadata": {},
   "source": [
    "### 2. What is an object in Python?\n",
    "\n",
    "An object is called an instance of a class.\n",
    "\n",
    "For example, consider a \"Car\" class. This class might have attributes like \"color,\" \"brand,\" and \"model,\" as well as methods like \"start_engine\" and \"drive.\" When you create an object of the \"Car\" class, say a red Toyota Camry, you are creating a specific car that has its own color, brand, and model, and you can make it start the engine and drive.\n",
    "\n"
   ]
  },
  {
   "cell_type": "markdown",
   "id": "eff093f3",
   "metadata": {},
   "source": [
    "### 3. What is a class in Python?\n",
    "\n",
    "Think of a class as a blueprint for building objects, just like a recipe for making a specific type of cake. The class defines the structure, attributes, and behaviors that the objects of that class will have. It acts as a template that allows you to create multiple instances of the same type, each with its own unique characteristics.\n",
    "\n",
    "For example, consider a \"Car\" class. This class would describe the common features and actions that all cars have, such as attributes like \"color,\" \"brand,\" and \"model,\" and methods like \"start_engine\" and \"drive.\"\n",
    "\n",
    "When you create a class, you are essentially defining the blueprint for what a car should be like. It's like saying, \"Every car created from this blueprint will have a color, a brand, and a model, and they can all start their engine and drive.\"\n",
    "\n",
    "Once you have the \"Car\" class defined, you can create individual car objects based on that blueprint. For instance, you might create a red Toyota Camry by using the \"Car\" class as a guide. This car object will have its own unique color, brand, and model, but it will share the same structure and behaviors defined in the \"Car\" class.\n",
    "\n",
    "Classes allow you to organize your code and promote code reusability. You can create many car objects using the same \"Car\" class without having to rewrite the attributes and methods for each car individually. This makes your code more efficient, easier to maintain, and helps you model real-world concepts in a more organized and systematic way.\n"
   ]
  },
  {
   "cell_type": "markdown",
   "id": "51333d58",
   "metadata": {},
   "source": [
    "### 4. What are attributes and methods in a class?\n",
    "\n",
    "Attributes: Attributes are variables that hold data and represent the characteristics or properties of objects. They define the state of an object and represent the information that an object contains. For example, in a \"Car\" class, attributes could include \"color,\" \"brand,\" \"model,\" \"fuel_type,\" etc.\n",
    "\n",
    "class Car:\n",
    "    def __init__(self, color, brand, model, fuel_type):\n",
    "        self.color = color\n",
    "        self.brand = brand\n",
    "        self.model = model\n",
    "        self.fuel_type = fuel_type\n",
    "\n",
    "my_car = Car(\"Red\", \"Toyota\", \"Camry\", \"Gasoline\")\n",
    "\n",
    "\n",
    "Methods:\n",
    "\n",
    "Methods are functions that define the behavior or actions that an object can perform. They represent the actions an object can take or the operations it can do.\n",
    "\n",
    "class Car:\n",
    "    def __init__(self, color, brand, model, fuel_type):\n",
    "        self.color = color\n",
    "        self.brand = brand\n",
    "        self.model = model\n",
    "        self.fuel_type = fuel_type\n",
    "\n",
    "    def start_engine(self):# <<--------Method\n",
    "        print(\"Engine started.\")\n",
    "\n",
    "    def drive(self, speed):\n",
    "        print(f\"The car is driving at {speed} mph.\")\n",
    "\n",
    "my_car = Car(\"Red\", \"Toyota\", \"Camry\", \"Gasoline\")\n",
    "my_car.start_engine()   # Output: Engine started.\n",
    "my_car.drive(60)        # Output: The car is driving at 60 mph.\n",
    "\n"
   ]
  },
  {
   "cell_type": "markdown",
   "id": "2aa2f4e1",
   "metadata": {},
   "source": [
    "### 5. What is the difference between class variables and instance variables in Python?\n",
    "\n",
    "Class Variables:\n",
    "\n",
    "Class variables are shared among all instances (objects) of a class.\n",
    "They are defined within the class but outside of any method or constructor.\n",
    "Changes to class variables affect all instances of the class.\n",
    "They are typically used to store attributes or constants that are common to all instances of the class\n",
    "\n",
    "Example:\n",
    "\n",
    "class Car:\n",
    "    wheels = 4  # This is a class variable shared among all Car instances\n",
    "    \n",
    "    def __init__(self, make, model):\n",
    "        self.make = make  # This is an instance variable specific to each Car instance\n",
    "        self.model = model\n",
    "\n",
    "car1 = Car(\"Toyota\", \"Camry\")\n",
    "car2 = Car(\"Honda\", \"Civic\")\n",
    "\n",
    "print(car1.wheels)  # Output: 4 (accessing class variable)\n",
    "print(car2.wheels)  # Output: 4\n",
    "\n",
    "Car.wheels = 3  # Changing the class variable\n",
    "print(car1.wheels)  # Output: 3 (changes are reflected in all instances)\n",
    "print(car2.wheels)  # Output: 3\n",
    "\n",
    "\n",
    "Instance Variables:\n",
    "\n",
    "Instance variables are specific to each individual instance (object) of a class.\n",
    "They are defined within the class's methods or constructor and are prefixed with self.\n",
    "Each instance maintains its own separate copy of instance variables.\n",
    "They are used to store data that can vary from one instance to another.\n",
    "\n",
    "Example:\n",
    "\n",
    "class Car:\n",
    "    def __init__(self, make, model):\n",
    "        self.make = make  # This is an instance variable specific to each Car instance\n",
    "        self.model = model\n",
    "\n",
    "car1 = Car(\"Toyota\", \"Camry\")\n",
    "car2 = Car(\"Honda\", \"Civic\")\n",
    "\n",
    "print(car1.make)  # Output: \"Toyota\" (accessing instance variable)\n",
    "print(car2.make)  # Output: \"Honda\"\n",
    "\n",
    "car1.make = \"Ford\"  # Changing the instance variable for car1\n",
    "print(car1.make)  # Output: \"Ford\" (changes are specific to individual instances)\n",
    "print(car2.make)  # Output: \"Honda\"\n",
    "\n",
    "\n"
   ]
  },
  {
   "cell_type": "markdown",
   "id": "ec84123a",
   "metadata": {},
   "source": [
    "### 6.What is the purpose of the self parameter in Python class methods?\n",
    "\n",
    "The self keyword is used to represent an instance (object) of the given class.\n",
    "\n",
    "Regular instance methods in Python take self as their first parameter. This parameter represents the instance of the class and allows the method to access and modify the instance's attributes and call other instance methods. When you call an instance method on an object, Python automatically passes the object itself as the self parameter."
   ]
  },
  {
   "cell_type": "markdown",
   "id": "196a98c8",
   "metadata": {},
   "source": [
    "### 7. For a library management system, you have to design the \"Book\" class with OOP\n",
    "principles in mind. The “Book” class will have following attributes:\n",
    "a. title: Represents the title of the book.\n",
    "b. author: Represents the author(s) of the book.\n",
    "c. isbn: Represents the ISBN (International Standard Book Number) of the book.\n",
    "d. publication_year: Represents the year of publication of the book.\n",
    "e. available_copies: Represents the number of copies available for checkout.\n",
    "The class will also include the following methods:\n",
    "a. check_out(self): Decrements the available copies by one if there are copies\n",
    "available for checkout.\n",
    "b. return_book(self): Increments the available copies by one when a book is\n",
    "returned.\n",
    "c. display_book_info(self): Displays the information about the book, including its\n",
    "attributes and the number of available copies.\n",
    "\n",
    "\n",
    "\n",
    "\n",
    "                   \n",
    "            \n",
    "    def display_book_info(self) :\n",
    "        print(f\"Book name is: {self.title}, author is: {self.author}, book no is: {self.isbn} published year: {self.publication_year}, no of copies available: {self.available_copies}\")\n"
   ]
  },
  {
   "cell_type": "code",
   "execution_count": 27,
   "id": "1a1e4e32",
   "metadata": {},
   "outputs": [],
   "source": [
    "class Book:\n",
    "    def __init__(self,title,author,isbn,publication_year,available_copies):\n",
    "        self.title=title\n",
    "        self.author=author\n",
    "        self.isbn=isbn\n",
    "        self.publication_year=publication_year\n",
    "        self.available_copies=available_copies\n",
    "     \n",
    "    def check_out(self,can_be_given):        \n",
    "        if can_be_given<self.available_copies:       \n",
    "            self.available_copies=self.available_copies-1\n",
    "        \n",
    "        else:\n",
    "            Print(\"Not enought copies\")\n",
    "        \n",
    "    def return_book(self,return_book):\n",
    "        if return_book>0:\n",
    "             self.available_copies=self.available_copies+1\n",
    "            \n",
    "        \n",
    "                   \n",
    "            \n",
    "    def display_book_info(self) :\n",
    "        print(f\"Book name is: {self.title}, author is: {self.author}, book no is: {self.isbn} published year: {self.publication_year}, no of copies available: {self.available_copies}\")\n",
    "            \n",
    "        \n"
   ]
  },
  {
   "cell_type": "code",
   "execution_count": 28,
   "id": "48bb9fea",
   "metadata": {},
   "outputs": [],
   "source": [
    "mybook=Book(\"alice in wonderland\",\"rushdie\",\"A123\",\"1998\",100)\n"
   ]
  },
  {
   "cell_type": "code",
   "execution_count": 29,
   "id": "bb200a89",
   "metadata": {},
   "outputs": [],
   "source": [
    "mybook.check_out(1)"
   ]
  },
  {
   "cell_type": "code",
   "execution_count": 30,
   "id": "fc629bfd",
   "metadata": {},
   "outputs": [],
   "source": [
    "mybook.return_book(1)"
   ]
  },
  {
   "cell_type": "code",
   "execution_count": 31,
   "id": "f9a5020d",
   "metadata": {},
   "outputs": [
    {
     "name": "stdout",
     "output_type": "stream",
     "text": [
      "Book name is: alice in wonderland, author is: rushdie, book no is: A123 published year: 1998, no of copies available: 100\n"
     ]
    }
   ],
   "source": [
    "mybook.display_book_info()"
   ]
  },
  {
   "cell_type": "markdown",
   "id": "15f7c548",
   "metadata": {},
   "source": [
    "For a ticket booking system, you have to design the \"Ticket\" class with OOP\n",
    "principles in mind. The “Ticket” class should have the following attributes:\n",
    "a. ticket_id: Represents the unique identifier for the ticket.\n",
    "b. event_name: Represents the name of the event.\n",
    "c. event_date: Represents the date of the event.\n",
    "d. venue: Represents the venue of the event.\n",
    "e. seat_number: Represents the seat number associated with the ticket.\n",
    "f. price: Represents the price of the ticket.\n",
    "g. is_reserved: Represents the reservation status of the ticket.\n",
    "The class also includes the following methods:\n",
    "a. reserve_ticket(self): Marks the ticket as reserved if it is not already reserved.\n",
    "b. cancel_reservation(self): Cancels the reservation of the ticket if it is already\n",
    "reserved.\n",
    "c. display_ticket_info(self): Displays the information about the ticket, including its\n",
    "attributes and reservation status.\n",
    "\n"
   ]
  },
  {
   "cell_type": "code",
   "execution_count": 32,
   "id": "97158c1f",
   "metadata": {},
   "outputs": [],
   "source": [
    "class Ticket:\n",
    "    def __init__(self,ticket_id,event_name,event_date,venue,seat_number,price):\n",
    "        self.ticket_id=ticket_id\n",
    "        self.event_name=event_name\n",
    "        self.event_date=event_date\n",
    "        self.venue=venue\n",
    "        self.seat_number=seat_number\n",
    "        self.price=price\n",
    "        self.is_reserved=False\n",
    "     \n",
    "    def reserve_ticket(self):        \n",
    "        if not self.is_reserved:            \n",
    "            self.is_reserved=True\n",
    "            print(f\"{self.ticket_id} is reserved\")\n",
    "        else:\n",
    "            print(f\"{self.ticket_id} has been cancelled\")\n",
    "          \n",
    "        \n",
    "        \n",
    "    def cancel_reservation(self):\n",
    "        if self.is_reserved:\n",
    "            self.is_reserved=False\n",
    "            print(f\"{self.ticket_id} is cancelled\")\n",
    "        else:\n",
    "            print(f\"{self.ticket_id} is not reserved\")   \n",
    "\n",
    "                \n",
    "                \n",
    "    def display_ticket_info(self):\n",
    "        reservation_status=\"reserved\" if self.is_reserved else \"not reserved\"\n",
    "        print(f\"Ticket ID: {self.ticket_id}\")\n",
    "        print(f\"Event Name: {self.event_name}\")\n",
    "        print(f\"Event Date: {self.event_date}\")\n",
    "        print(f\"Venue: {self.venue}\")\n",
    "        print(f\"Seat Number: {self.seat_number}\")\n",
    "        print(f\"Price: {self.price} INR\")\n",
    "        print(f\"Reservation Status: {reservation_status}\")\n"
   ]
  },
  {
   "cell_type": "code",
   "execution_count": 33,
   "id": "f499b6d8",
   "metadata": {},
   "outputs": [
    {
     "name": "stdout",
     "output_type": "stream",
     "text": [
      "Ticket ID: 1234\n",
      "Event Name: dhn\n",
      "Event Date: 12Aug2023\n",
      "Venue: ccu\n",
      "Seat Number: 12B\n",
      "Price: 1200 INR\n",
      "Reservation Status: not reserved\n"
     ]
    }
   ],
   "source": [
    "NewTicket=Ticket(1234,\"dhn\",\"12Aug2023\",\"ccu\",\"12B\",1200)\n",
    "\n",
    "NewTicket.display_ticket_info()"
   ]
  },
  {
   "cell_type": "code",
   "execution_count": 34,
   "id": "5376f850",
   "metadata": {},
   "outputs": [
    {
     "name": "stdout",
     "output_type": "stream",
     "text": [
      "1234 is reserved\n"
     ]
    }
   ],
   "source": [
    "NewTicket.reserve_ticket()\n"
   ]
  },
  {
   "cell_type": "code",
   "execution_count": 35,
   "id": "1c65304d",
   "metadata": {},
   "outputs": [
    {
     "name": "stdout",
     "output_type": "stream",
     "text": [
      "1234 is cancelled\n"
     ]
    }
   ],
   "source": [
    "NewTicket.cancel_reservation()\n"
   ]
  },
  {
   "cell_type": "code",
   "execution_count": 36,
   "id": "74cd33ea",
   "metadata": {},
   "outputs": [
    {
     "name": "stdout",
     "output_type": "stream",
     "text": [
      "Ticket ID: 1234\n",
      "Event Name: dhn\n",
      "Event Date: 12Aug2023\n",
      "Venue: ccu\n",
      "Seat Number: 12B\n",
      "Price: 1200 INR\n",
      "Reservation Status: not reserved\n"
     ]
    }
   ],
   "source": [
    "NewTicket.display_ticket_info()"
   ]
  },
  {
   "cell_type": "markdown",
   "id": "1a7e118a",
   "metadata": {},
   "source": [
    "9.You are creating a shopping cart for an e-commerce website. Using OOP to model\n",
    "the \"ShoppingCart\" functionality the class should contain following attributes and\n",
    "methods:\n",
    "a. items: Represents the list of items in the shopping cart.\n",
    "The class also includes the following methods:\n",
    "\n",
    "a. add_item(self, item): Adds an item to the shopping cart by appending it to the\n",
    "list of items.\n",
    "b. remove_item(self, item): Removes an item from the shopping cart if it exists in\n",
    "the list.\n",
    "c. view_cart(self): Displays the items currently present in the shopping cart.\n",
    "d. clear_cart(self): Clears all items from the shopping cart by reassigning an\n",
    "empty list to the items attribute."
   ]
  },
  {
   "cell_type": "code",
   "execution_count": 37,
   "id": "99069997",
   "metadata": {},
   "outputs": [],
   "source": [
    "class shoppingcart:\n",
    "    def __init__(self):\n",
    "        self.list=[]\n",
    "    \n",
    "    def add_item(self,item):\n",
    "        self.list.append(item)\n",
    "        print(f\"{item} has been added to the cart\")\n",
    "    \n",
    "    def remove_cart(self,item):\n",
    "        if item in self.list:\n",
    "            self.list.remove(item)\n",
    "            print(f\"{item} removed from cart\")\n",
    "            \n",
    "        else:print(f\"{item} not found in cart\")    \n",
    "            \n",
    "            \n",
    "    def view_cart(self):\n",
    "        if not self.list:\n",
    "            print(\"Shopping cart is empty\")\n",
    "            \n",
    "        else:\n",
    "            print(\"Item in shopping cart\")       \n",
    "            for item in self.list:\n",
    "                print(item)\n",
    "                \n",
    "                \n",
    "    def clear_cart(self):\n",
    "        self.list=[]\n",
    "        print(\"Shopping cart has been cleared\")\n"
   ]
  },
  {
   "cell_type": "code",
   "execution_count": 38,
   "id": "15a9b054",
   "metadata": {},
   "outputs": [],
   "source": [
    "mycart=shoppingcart()"
   ]
  },
  {
   "cell_type": "code",
   "execution_count": 39,
   "id": "8aabd2a1",
   "metadata": {},
   "outputs": [
    {
     "name": "stdout",
     "output_type": "stream",
     "text": [
      "apple has been added to the cart\n",
      "shoes has been added to the cart\n",
      "socks has been added to the cart\n",
      "tv has been added to the cart\n"
     ]
    }
   ],
   "source": [
    "mycart.add_item(\"apple\")\n",
    "mycart.add_item(\"shoes\")\n",
    "mycart.add_item(\"socks\")\n",
    "mycart.add_item(\"tv\")"
   ]
  },
  {
   "cell_type": "code",
   "execution_count": 40,
   "id": "96a06a1f",
   "metadata": {},
   "outputs": [
    {
     "name": "stdout",
     "output_type": "stream",
     "text": [
      "Item in shopping cart\n",
      "apple\n",
      "shoes\n",
      "socks\n",
      "tv\n"
     ]
    }
   ],
   "source": [
    "mycart.view_cart()"
   ]
  },
  {
   "cell_type": "code",
   "execution_count": 41,
   "id": "62201086",
   "metadata": {},
   "outputs": [
    {
     "name": "stdout",
     "output_type": "stream",
     "text": [
      "shoes removed from cart\n"
     ]
    }
   ],
   "source": [
    "mycart.remove_cart(\"shoes\")"
   ]
  },
  {
   "cell_type": "code",
   "execution_count": 42,
   "id": "fd5db318",
   "metadata": {},
   "outputs": [
    {
     "name": "stdout",
     "output_type": "stream",
     "text": [
      "Shopping cart has been cleared\n"
     ]
    }
   ],
   "source": [
    "mycart.clear_cart()"
   ]
  },
  {
   "cell_type": "code",
   "execution_count": 43,
   "id": "bbad2460",
   "metadata": {},
   "outputs": [
    {
     "name": "stdout",
     "output_type": "stream",
     "text": [
      "Shopping cart is empty\n"
     ]
    }
   ],
   "source": [
    "mycart.view_cart()"
   ]
  },
  {
   "cell_type": "markdown",
   "id": "903b2ce3",
   "metadata": {},
   "source": [
    "10. Imagine a school management system. You have to design the \"Student\" class using\n",
    "OOP concepts.The “Student” class has the following attributes:\n",
    "a. name: Represents the name of the student.\n",
    "b. age: Represents the age of the student.\n",
    "c. grade: Represents the grade or class of the student.\n",
    "d. student_id: Represents the unique identifier for the student.\n",
    "e. attendance: Represents the attendance record of the student.\n",
    "The class should also include the following methods:\n",
    "a. update_attendance(self, date, status): Updates the attendance record of the\n",
    "student for a given date with the provided status (e.g., present or absent).\n",
    "b. get_attendance(self): Returns the attendance record of the student.\n",
    "c. get_average_attendance(self): Calculates and returns the average\n",
    "attendance percentage of the student based on their attendance record."
   ]
  },
  {
   "cell_type": "code",
   "execution_count": 1,
   "id": "33920636",
   "metadata": {},
   "outputs": [
    {
     "name": "stdout",
     "output_type": "stream",
     "text": [
      "{'2023-08-01': 'present', '2023-08-02': 'present', '2023-08-03': 'present'}\n",
      "100.0\n"
     ]
    }
   ],
   "source": [
    "class Student:\n",
    "    def __init__(self, name, age, grade, student_id):\n",
    "        self.name = name\n",
    "        self.age = age\n",
    "        self.grade = grade\n",
    "        self.student_id = student_id\n",
    "        self.attendance = {}  # Dictionary to store attendance records (date: status)\n",
    "\n",
    "    def update_attendance(self, date, status):\n",
    "        \"\"\"\n",
    "        Updates the attendance record of the student for a given date with the provided status.\n",
    "\n",
    "        Args:\n",
    "            date (str): Date in the format 'YYYY-MM-DD'.\n",
    "            status (str): The status of the student (e.g., 'present' or 'absent').\n",
    "        \"\"\"\n",
    "        self.attendance[date] = status\n",
    "\n",
    "    def get_attendance(self):\n",
    "        \"\"\"\n",
    "        Returns the attendance record of the student.\n",
    "\n",
    "        Returns:\n",
    "            dict: A dictionary containing the attendance record (date: status).\n",
    "        \"\"\"\n",
    "        return self.attendance\n",
    "\n",
    "    def get_average_attendance(self):\n",
    "        \"\"\"\n",
    "        Calculates and returns the average attendance percentage of the student based on their attendance record.\n",
    "\n",
    "        Returns:\n",
    "            float: The average attendance percentage of the student.\n",
    "        \"\"\"\n",
    "        total_days = len(self.attendance)\n",
    "        if total_days == 0:\n",
    "            return 0.0\n",
    "\n",
    "        present_days = sum(1 for status in self.attendance.values() if status == 'present')\n",
    "        average_attendance = (present_days / total_days) * 100\n",
    "        return average_attendance\n",
    "\n",
    "\n",
    "# Example usage:\n",
    "student1 = Student(\"Touseef\", 18, \"12th Grade\", \"Abc123\")\n",
    "student1.update_attendance(\"2023-08-01\", \"present\")\n",
    "student1.update_attendance(\"2023-08-02\", \"present\")\n",
    "student1.update_attendance(\"2023-08-03\", \"present\")\n",
    "\n",
    "attendance_record = student1.get_attendance()\n",
    "print(attendance_record)  # Output: {'2023-08-01': 'present', '2023-08-02': 'absent', '2023-08-03': 'present'}\n",
    "\n",
    "average_attendance_percentage = student1.get_average_attendance()\n",
    "print(average_attendance_percentage)  "
   ]
  },
  {
   "cell_type": "code",
   "execution_count": null,
   "id": "d1c177d8",
   "metadata": {},
   "outputs": [],
   "source": []
  }
 ],
 "metadata": {
  "kernelspec": {
   "display_name": "Python 3 (ipykernel)",
   "language": "python",
   "name": "python3"
  },
  "language_info": {
   "codemirror_mode": {
    "name": "ipython",
    "version": 3
   },
   "file_extension": ".py",
   "mimetype": "text/x-python",
   "name": "python",
   "nbconvert_exporter": "python",
   "pygments_lexer": "ipython3",
   "version": "3.11.3"
  }
 },
 "nbformat": 4,
 "nbformat_minor": 5
}
