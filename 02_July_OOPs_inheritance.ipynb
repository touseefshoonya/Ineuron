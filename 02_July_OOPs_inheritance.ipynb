{
 "cells": [
  {
   "cell_type": "markdown",
   "id": "1c7b26af",
   "metadata": {},
   "source": [
    "### 1.Explain what inheritance is in object-oriented programming and why it is used."
   ]
  },
  {
   "cell_type": "markdown",
   "id": "ef7edafd",
   "metadata": {},
   "source": [
    "Inheritance is a concept in object-oriented programming (OOP) that allows us to create a new class \n",
    "(also known as a subclass or derived class) by inheriting the properties (attributes and methods) \n",
    "of an existing class (also known as a superclass or base class). This means that the subclass automatically \n",
    "has access to all the attributes and methods defined in the superclass, and it can also add its own unique\n",
    "attributes and methods or override the ones inherited from the superclass.\n",
    "\n",
    "Inheritance is used for several reasons:\n",
    "\n",
    "    A.Code Reusability:\n",
    "      Inheritance promotes code reuse by allowing you to define common attributes and methods in a base class and using it in\n",
    "      subclass or derived class. \n",
    "\n",
    "    B.Modularity: \n",
    "      Inheritance helps in creating modular and well-structured code. You can separate different aspects of functionality \n",
    "      into separate classes,making it easier to understand, maintain, and update your code.\n",
    "\n",
    "    C.Hierarchy:\n",
    "      Inheritance allows you to model real-world relationships and hierarchies. For instance, you can have a base class \n",
    "      \"Vehicle\" and derive subclasses like \"Car,\" \"Bicycle,\" and \"Truck,\" each inheriting common vehicle properties but \n",
    "       also having their specific properties and behaviors.\n",
    "\n",
    "    D.Polymorphism:\n",
    "      Inheritance is closely related to the polymorphism,Polymorphism means one function different use cases or implementation\n",
    "\n",
    "    E.Code Extensibility:\n",
    "      You can easily add new features by creating new subclasses without modifying\n",
    "      the existing code. This allows you to extend the functionality of your application without affecting its core structure.\n",
    "\n",
    "To implement inheritance, you typically use a programming language's inheritance mechanism.\n",
    "In most OOP languages, a subclass is declared by specifying the superclass it inherits from.\n",
    "The subclass then inherits all the attributes and methods of the superclass. Additionally, \n",
    "the subclass can define its own attributes and methods or override the inherited ones as needed.\n",
    "\n",
    "Here's a simple example in Python:\n",
    "\n",
    "python\n",
    "Copy code\n",
    "class Animal:\n",
    "    def __init__(self, name):\n",
    "        self.name = name\n",
    "        \n",
    "    def speak(self):\n",
    "        pass  # Placeholder for method\n",
    "    \n",
    "class Dog(Animal):  # Dog is a subclass of Animal\n",
    "    def speak(self):\n",
    "        return \"Woof!\"\n",
    "    \n",
    "class Cat(Animal):  # Cat is a subclass of Animal\n",
    "    def speak(self):\n",
    "        return \"Meow!\"\n",
    "In this example, the Animal class is the base class, and both Dog and Cat are subclasses. They inherit the name attribute from the base class and provide their own implementations of the speak method.\n",
    "\n",
    "In summary, inheritance is a crucial concept in OOP that enables code reuse, modularity, hierarchy modeling, polymorphism, and code extensibility. It allows you to create more organized, maintainable, and scalable software systems.\n",
    "\n",
    "\n",
    "\n",
    "\n",
    "\n",
    "\n"
   ]
  },
  {
   "cell_type": "markdown",
   "id": "b02f027a",
   "metadata": {},
   "source": [
    "### 2.Discuss the concept of single inheritance and multiple inheritance, highlighting their\n",
    "differences and advantages."
   ]
  },
  {
   "cell_type": "markdown",
   "id": "9613ccb6",
   "metadata": {},
   "source": [
    "Single Inheritance:\n",
    "    \n",
    "In single inheritance, a class can only inherit from a single parent class. This means that each class has a direct parent-child\n",
    "relationship, and the child class can inherit all the attributes and behaviors of its parent class. \n",
    "Single inheritance provides a simpler and more straightforward hierarchy, making it easier to understand and maintain the \n",
    "codebase.\n",
    "This is used for its simplicity and zero confusion.\n",
    "\n",
    "class Animal:\n",
    "    def __init__(self, species):\n",
    "        self.species = species\n",
    "    \n",
    "    def speak(self):\n",
    "        pass\n",
    "\n",
    "class Dog(Animal):\n",
    "    def speak(self):\n",
    "        return \"Woof!\"\n",
    "\n",
    "class Cat(Animal):\n",
    "    def speak(self):\n",
    "        return \"Meow!\"\n",
    "\n",
    "dog = Dog(\"Canine\")\n",
    "print(dog.species)  # Output: Canine\n",
    "print(dog.speak())  # Output: Woof!\n",
    "\n",
    "cat = Cat(\"Feline\")\n",
    "print(cat.species)  # Output: Feline\n",
    "print(cat.speak())  # Output: Meow!\n",
    "\n",
    "\n",
    "\n",
    "Multiple Inheritance:\n",
    "    \n",
    "In multiple inheritance, a class can inherit from multiple parent classes. This means that a child class can inherit attributes\n",
    "and behaviors from more than one class. While this offers more flexibility and code reuse, it can also introduce complexities\n",
    "and potential ambiguities.\n",
    "\n",
    "class Flying:\n",
    "    def fly(self):\n",
    "        return \"Flying high!\"\n",
    "\n",
    "class Swimming:\n",
    "    def swim(self):\n",
    "        return \"Swimming gracefully!\"\n",
    "\n",
    "class Bird(Flying):\n",
    "    def speak(self):\n",
    "        return \"Chirp!\"\n",
    "\n",
    "class Fish(Swimming):\n",
    "    def speak(self):\n",
    "        return \"Blub blub!\"\n",
    "\n",
    "class FlyingFish(Flying, Swimming):\n",
    "    def speak(self):\n",
    "        return \"I'm a unique flying fish!\"\n",
    "\n",
    "bird = Bird()\n",
    "print(bird.fly())   # Output: Flying high!\n",
    "print(bird.speak()) # Output: Chirp!\n",
    "\n",
    "fish = Fish()\n",
    "print(fish.swim())  # Output: Swimming gracefully!\n",
    "print(fish.speak()) # Output: Blub blub!\n",
    "\n",
    "flying_fish = FlyingFish()\n",
    "print(flying_fish.fly())   # Output: Flying high!\n",
    "print(flying_fish.swim())  # Output: Swimming gracefully!\n",
    "print(flying_fish.speak()) # Output: I'm a unique flying fish!\n",
    "\n",
    "\n",
    "\n",
    "\n"
   ]
  },
  {
   "cell_type": "markdown",
   "id": "25550b21",
   "metadata": {},
   "source": [
    "### 3.Explain the terms \"base class\" and \"derived class\" in the context of inheritance."
   ]
  },
  {
   "cell_type": "code",
   "execution_count": 38,
   "id": "c6a8abf9",
   "metadata": {},
   "outputs": [
    {
     "ename": "SyntaxError",
     "evalue": "invalid syntax (3231980773.py, line 1)",
     "output_type": "error",
     "traceback": [
      "\u001b[1;36m  Cell \u001b[1;32mIn[38], line 1\u001b[1;36m\u001b[0m\n\u001b[1;33m    Base Class (Parent Class):\u001b[0m\n\u001b[1;37m         ^\u001b[0m\n\u001b[1;31mSyntaxError\u001b[0m\u001b[1;31m:\u001b[0m invalid syntax\n"
     ]
    }
   ],
   "source": [
    "Base Class (Parent Class):\n",
    "    \n",
    "A base class, also known as a parent class or superclass, is a class that serves as the template or blueprint \n",
    "from which other classes can be derived. It is the class that contains common attributes and methods that are \n",
    "shared by one or more derived classes. The base class provides a foundation for the derived classes to build upon.\n",
    "\n",
    "For example, in the context of animals, you might have a base class called \"Animal\" with attributes and methods that are \n",
    "common to all animals. Other classes like \"Dog\" and \"Cat\" can then inherit from the \"Animal\" class and add specific attributes\n",
    "and methods that are unique to them\n",
    "\n",
    "\n",
    "Derived Class (Child Class):\n",
    "    \n",
    "A derived class, also known as a child class or subclass, is a class that is created by inheriting attributes and methods\n",
    "from a base class. The derived class extends the functionality of the base class by adding new attributes and methods or \n",
    "by modifying the existing ones. It inherits the characteristics of the base class and can have its own specialized behavior\n",
    "\n",
    "Continuing with the animal example, the \"Dog\" and \"Cat\" classes would be derived classes since they inherit attributes and \n",
    "methods from the \"Animal\" base class while also having their own distinct features.\n"
   ]
  },
  {
   "cell_type": "markdown",
   "id": "b6b60472",
   "metadata": {},
   "source": [
    "### What is the significance of the \"protected\" access modifier in inheritance? How does\n",
    "it differ from \"private\" and \"public\" modifiers?"
   ]
  },
  {
   "cell_type": "markdown",
   "id": "a8a8229e",
   "metadata": {},
   "source": [
    "# Private Access Modifier:\n",
    "\n",
    "Members declared as private are only accessible within the class that defines them. They cannot be accessed or modified\n",
    "by any other class, including subclasses derived from the class. Private members are intended to encapsulate implementation\n",
    "details and prevent external interference.\n",
    "\n",
    "Protected Access Modifier:\n",
    "\n",
    "Members declared as protected are accessible within the defining class and its subclasses. In other words,\n",
    "they are visible within the inheritance hierarchy. Protected members allow derived classes to access and modify\n",
    "the data of the base class, promoting code reuse and customization while still maintaining a level of encapsulation.\n",
    "\n",
    "Public Access Modifier:\n",
    "\n",
    "Members declared as public are accessible from anywhere in the program, including outside the class.\n",
    "There are no restrictions on their accessibility. Public members are used to provide an interface to the \n",
    "outside world and are often used for methods or attributes that need to be accessed externally.\n",
    "\n",
    "Significance of \"Protected\" Access Modifier in Inheritance:\n",
    "    \n",
    "When you declare a member as protected, it allows subclasses to access and modify that member, enabling them to inherit and \n",
    "extend the behavior of the base class. This is particularly useful for implementing shared functionality and specialized \n",
    "behavior in derived classes.\n",
    "\n",
    "Example of Protected access modifier:\n",
    "\n",
    "class Shape:\n",
    "    def __init__(self, color):\n",
    "        self.color = color\n",
    "    \n",
    "    def display_color(self):\n",
    "        print(f\"The shape's color is {self.color}\")\n",
    "\n",
    "class Circle(Shape):\n",
    "    def __init__(self, color, radius):\n",
    "        super().__init__(color)\n",
    "        self.radius = radius\n",
    "    \n",
    "    def area(self):\n",
    "        return 3.14 * self.radius ** 2\n",
    "\n",
    "circle = Circle(\"Red\", 5)\n",
    "circle.display_color()  # Output: The shape's color is Red\n",
    "print(circle.area())     # Output: 78.5\n",
    "\n",
    "In the above example, the \"Shape\" class has a protected attribute \"color,\" which is accessible by the \"Circle\" subclass. \n",
    "The \"Circle\" class inherits the \"color\" attribute and its display method from the \"Shape\" class. This allows the \"Circle\" class\n",
    "to share the common behavior while also adding its own unique features like the \"area\" method.\n"
   ]
  },
  {
   "cell_type": "markdown",
   "id": "339942d4",
   "metadata": {},
   "source": [
    "### 5.What is the purpose of the \"super\" keyword in inheritance? Provide an example."
   ]
  },
  {
   "cell_type": "raw",
   "id": "da4da3a2",
   "metadata": {},
   "source": [
    "The \"super\" keyword in inheritance is used to call methods and access attributes of the parent class (or superclass) within\n",
    "a subclass. It allows a subclass to utilize the behavior and attributes defined in its parent class while also enabling\n",
    "customization and extension of that behavior in the subclass. The \"super\" keyword is particularly useful when you want to\n",
    "override a method in the subclass but still use the implementation from the parent class.\n",
    "\n",
    "Super().is used to use inheritance feature.\n",
    "Like child can iherit property of parent but can not inherit grandfater property in same way when super().is used it just can use only preceeding class and ists attributes.It wont go beyond that.Even there was another class before Employee it will not use that,it only only use Emplyoyee as thats its preceeding class. \n",
    "\n",
    "eg:Grandparent\" > \"Parent\" > \"Child.        \n",
    "\n",
    "\n",
    "class Animal:\n",
    "    def __init__(self, name):\n",
    "        self.name = name\n",
    "\n",
    "    def speak(self):\n",
    "        pass\n",
    "\n",
    "class Dog(Animal):\n",
    "    def __init__(self, name, breed):\n",
    "        super().__init__(name)\n",
    "        self.breed = breed\n",
    "\n",
    "    def speak(self):\n",
    "        return \"Woof!\"\n",
    "\n",
    "class Cat(Animal):\n",
    "    def __init__(self, name, color):\n",
    "        super().__init__(name)\n",
    "        self.color = color\n",
    "\n",
    "    def speak(self):\n",
    "        return \"Meow!\"\n",
    "\n",
    "# Example usage\n",
    "dog = Dog(\"Buddy\", \"Labrador\")\n",
    "cat = Cat(\"Whiskers\", \"Gray\")\n",
    "\n",
    "print(f\"{dog.name} is a {dog.breed} and says: {dog.speak()}\")\n",
    "print(f\"{cat.name} is {cat.color} and says: {cat.speak()}\")\n",
    "\n",
    "\n",
    "In this example, the base class Animal has a method speak() that is overridden in its subclasses Dog and Cat.\n",
    "In the constructors of the subclasses, the super() keyword is used to call the constructor of the parent class,\n",
    "ensuring that the attributes of the parent class are initialized properly."
   ]
  },
  {
   "cell_type": "markdown",
   "id": "9acb61c0",
   "metadata": {},
   "source": [
    "## 6.Create a base class called \"Vehicle\" with attributes like \"make\", \"model\", and \"year\".\n",
    "Then, create a derived class called \"Car\" that inherits from \"Vehicle\" and adds an\n",
    "attribute called \"fuel_type\". Implement appropriate methods in both classes."
   ]
  },
  {
   "cell_type": "code",
   "execution_count": null,
   "id": "f14a3131",
   "metadata": {},
   "outputs": [],
   "source": [
    "class vehicle:\n",
    "    def __init__(self,make,model,year):\n",
    "        self.make=make\n",
    "        self.model=model\n",
    "        self.year=year\n",
    "    \n",
    "    def display_info(self):\n",
    "        print(f\" My car is {self.make},{self.model},{self.year}\" )\n",
    "    \n",
    "class car(vehicle):\n",
    "    def __init__(self,make,model,year,fuel_type):\n",
    "        super().__init__(make,model,year)\n",
    "        self.fuel_type = fuel_type\n",
    "        \n",
    "    def display_info(self): \n",
    "        vehicle_info=super().display_info()\n",
    "        print(f\"{vehicle_info},fuel_type={self.fuel_type}\")\n",
    "        \n",
    "new_vehicle=vehicle(\"RIVIAN\",\"RT1\",\"2023\") \n",
    "new_vehicle.display_info()\n",
    "\n",
    "new_car=car(\"FORD\",\"Raptor\",\"2022\",\"Gas\")\n",
    "new_car.display_info()\n",
    "\n",
    "        \n",
    "    "
   ]
  },
  {
   "cell_type": "markdown",
   "id": "549e1a40",
   "metadata": {},
   "source": [
    "### 7.Create a base class called \"Employee\" with attributes like \"name\" and \"salary.\"\n",
    "Derive two classes, \"Manager\" and \"Developer,\" from \"Employee.\" Add an additional\n",
    "attribute called \"department\" for the \"Manager\" class and \"programming_language\"\n",
    "for the \"Developer\" class."
   ]
  },
  {
   "cell_type": "code",
   "execution_count": 43,
   "id": "542ff23c",
   "metadata": {},
   "outputs": [],
   "source": [
    "class Employee:\n",
    "    def __init__(self,name,salary):\n",
    "        self.name=name\n",
    "        self.salary=salary\n",
    "        \n",
    "    def display_info(self):\n",
    "        print(f\"Employee info:{self.name},${self.salary}\")\n",
    "        \n",
    "class Manager(Employee):\n",
    "    def __init__(self,name,salary,department):\n",
    "        super().__init__(name,salary)       #super is just calling and using Employee class and its attributes.Super().is used to use inheritance feature.\n",
    "                                            #Like child can iherit property of parent but can not inherit grandfater property.\n",
    "        self.department=department          #in same way when super().is used it just can use only preceeding class and ists attributes.It wont go beyond that \n",
    "                                            #even there was another class before Employee it will not use that,it only only use Emplyoyee as thats its preceeding class.  \n",
    "        \n",
    "    def display_info(self):\n",
    "        employee_info=super().display_info()\n",
    "        print(f\"{employee_info},Department:{self.department}\")  \n",
    "        \n",
    "        \n",
    "class Developer(Employee):\n",
    "    def __init__(self,name,salary,department,programming_language):\n",
    "        super().__init__(name,salary)\n",
    "            \n",
    "        self.programming_language=programming_language\n",
    "        \n",
    "        \n",
    "    def display_info(self):\n",
    "        employee_info=super().display_info()\n",
    "       \n",
    "        print(f\"employee_info,Programming laguage: {self.programming_language}\")         \n",
    "        \n",
    "        \n",
    "        \n",
    "        \n",
    "        \n",
    "        \n",
    "        \n",
    "    \n",
    "    \n",
    "    \n"
   ]
  },
  {
   "cell_type": "code",
   "execution_count": 40,
   "id": "bd66225d",
   "metadata": {},
   "outputs": [
    {
     "name": "stdout",
     "output_type": "stream",
     "text": [
      "Employee info:Touseef,$15\n"
     ]
    }
   ],
   "source": [
    "New_emp=Employee(\"Touseef\",\"15\")\n",
    "New_emp.display_info()"
   ]
  },
  {
   "cell_type": "code",
   "execution_count": 41,
   "id": "fec8b19c",
   "metadata": {},
   "outputs": [
    {
     "name": "stdout",
     "output_type": "stream",
     "text": [
      "Employee info:Touseef,$15\n",
      "None,Department:Analytics\n"
     ]
    }
   ],
   "source": [
    "New_man=Manager(\"Touseef\",\"15\",\"Analytics\")\n",
    "New_man.display_info()\n"
   ]
  },
  {
   "cell_type": "code",
   "execution_count": 42,
   "id": "ffbf02fd",
   "metadata": {},
   "outputs": [
    {
     "name": "stdout",
     "output_type": "stream",
     "text": [
      "Employee info:Touseef,$15\n",
      "employee_info,Programming laguage: Python\n"
     ]
    }
   ],
   "source": [
    "dev=Developer(\"Touseef\",\"15\",\"Aanalytics\",\"Python\")\n",
    "dev.display_info()"
   ]
  },
  {
   "cell_type": "markdown",
   "id": "4384984b",
   "metadata": {},
   "source": [
    "### 8.Design a base class called \"Shape\" with attributes like \"colour\" and \"border_width.\"\n",
    "Create derived classes, \"Rectangle\" and \"Circle,\" that inherit from \"Shape\" and add\n",
    "specific attributes like \"length\" and \"width\" for the \"Rectangle\" class and \"radius\" for\n",
    "the \"Circle\" class."
   ]
  },
  {
   "cell_type": "code",
   "execution_count": 64,
   "id": "d1a3d940",
   "metadata": {},
   "outputs": [],
   "source": [
    "class shape:\n",
    "    def __init__(self,color,border_width):\n",
    "        self.color=color\n",
    "        self.border_width=border_width\n",
    "        \n",
    "    def display_info(self):\n",
    "        print(f\" Colour:{self.color},Border_width: {self.border_width}\")\n",
    "        \n",
    "class rectangle(shape):\n",
    "    def __init__(self,color,border_width,length,width):\n",
    "        super().__init__(color,border_width)\n",
    "        self.length=length\n",
    "        self.width=width\n",
    "        \n",
    "        \n",
    "    def display_info(self):\n",
    "        shape_info=super().display_info()\n",
    "        print(f\"{shape_info}, Length:{ self.length},Width:{self.width}\")     \n",
    "  \n",
    "       \n",
    " \n",
    "    \n",
    "    \n",
    "class circle(shape):\n",
    "    def __init__(self,color,border_width,radius):\n",
    "        super().__init__(color,border_width)\n",
    "        self.radius=radius\n",
    "        \n",
    "    def display_info(self):\n",
    "        shape_info=super().display_info()\n",
    "        print(f\" {shape_info},Radius:{self.radius}\")\n",
    "        "
   ]
  },
  {
   "cell_type": "code",
   "execution_count": 65,
   "id": "992198af",
   "metadata": {},
   "outputs": [
    {
     "name": "stdout",
     "output_type": "stream",
     "text": [
      " Colour:red,Border_width: 12\n"
     ]
    }
   ],
   "source": [
    "newshape=shape(\"red\",12)\n",
    "newshape.display_info()\n"
   ]
  },
  {
   "cell_type": "code",
   "execution_count": 66,
   "id": "7660f240",
   "metadata": {},
   "outputs": [
    {
     "name": "stdout",
     "output_type": "stream",
     "text": [
      " Colour:blue,Border_width: 11\n",
      "None, Length:12,Width:13\n"
     ]
    }
   ],
   "source": [
    "newrec=rectangle(\"blue\",11,12,13)\n",
    "newrec.display_info()\n"
   ]
  },
  {
   "cell_type": "code",
   "execution_count": 67,
   "id": "9eebf004",
   "metadata": {},
   "outputs": [
    {
     "name": "stdout",
     "output_type": "stream",
     "text": [
      " Colour:red,Border_width: 12\n",
      " None,Radius:13\n"
     ]
    }
   ],
   "source": [
    "newcirc=circle(\"red\",12,13)\n",
    "newcirc.display_info()"
   ]
  },
  {
   "cell_type": "markdown",
   "id": "7ba610f1",
   "metadata": {},
   "source": [
    "## 9.Create a base class called \"Device\" with attributes like \"brand\" and \"model.\" Derive\n",
    "two classes, \"Phone\" and \"Tablet,\" from \"Device.\" Add specific attributes like\n",
    "\"screen_size\" for the \"Phone\" class and \"battery_capacity\" for the \"Tablet\" class."
   ]
  },
  {
   "cell_type": "code",
   "execution_count": 68,
   "id": "d47edf96",
   "metadata": {},
   "outputs": [],
   "source": [
    "class device:\n",
    "    def __init__(self,brand,model):\n",
    "        self.brand=brand\n",
    "        self.model=model\n",
    "        \n",
    "    def display_info(self):\n",
    "        print(f\" Brand:{self.brand},Model: {self.model}\")\n",
    "        \n",
    "class phone(device):\n",
    "    def __init__(self,brand,model,screen_size):\n",
    "        super().__init__(brand,model)\n",
    "        self.screen_size=screen_size       \n",
    "        \n",
    "        \n",
    "    def display_info(self):\n",
    "        shape_info=super().display_info()\n",
    "        print(f\"{shape_info}, Screen:{self.screen_size}\")    \n",
    "       \n",
    " \n",
    "    \n",
    "    \n",
    "class tablet(device):\n",
    "    def __init__(self,brand,model,battery_capacity):\n",
    "        super().__init__(brand,model)\n",
    "        self.battery_capacity=battery_capacity\n",
    "        \n",
    "    def display_info(self):\n",
    "        shape_info=super().display_info()\n",
    "        print(f\" {shape_info},Battery Capacity:{self.battery_capacity}\")"
   ]
  },
  {
   "cell_type": "code",
   "execution_count": 70,
   "id": "b7f54c85",
   "metadata": {},
   "outputs": [
    {
     "name": "stdout",
     "output_type": "stream",
     "text": [
      " Brand:Samsung,Model: flip\n"
     ]
    }
   ],
   "source": [
    "Newdevice=device(\"Samsung\",\"flip\")\n",
    "Newdevice.display_info()"
   ]
  },
  {
   "cell_type": "code",
   "execution_count": 75,
   "id": "bdfc416d",
   "metadata": {},
   "outputs": [
    {
     "name": "stdout",
     "output_type": "stream",
     "text": [
      " Brand:Samsung,Model: flip\n",
      "None, Screen:6\n"
     ]
    }
   ],
   "source": [
    "Newphone=phone(\"Samsung\",\"flip\",6)\n",
    "Newphone.display_info()               "
   ]
  },
  {
   "cell_type": "code",
   "execution_count": 77,
   "id": "52724318",
   "metadata": {},
   "outputs": [
    {
     "name": "stdout",
     "output_type": "stream",
     "text": [
      " Brand:Samsung,Model: flip\n",
      " None,Battery Capacity:3000MH\n"
     ]
    }
   ],
   "source": [
    "Newtablet=tablet(\"Samsung\",\"flip\",\"3000MH\")\n",
    "Newtablet.display_info()"
   ]
  },
  {
   "cell_type": "markdown",
   "id": "b80e81f3",
   "metadata": {},
   "source": [
    "#### 10.Create a base class called \"BankAccount\" with attributes like \"account_number\" and\n",
    "\"balance.\" Derive two classes, \"SavingsAccount\" and \"CheckingAccount,\" from\n",
    "\"BankAccount.\" Add specific methods like \"calculate_interest\" for the\n",
    "\"SavingsAccount\" class and \"deduct_fees\" for the \"CheckingAccount\" class."
   ]
  },
  {
   "cell_type": "code",
   "execution_count": 89,
   "id": "bd2958b8",
   "metadata": {},
   "outputs": [],
   "source": [
    "class BankAccount:\n",
    "    def __init__(self, account_number, balance):\n",
    "        self.account_number = account_number\n",
    "        self.balance = balance\n",
    "\n",
    "    def display_info(self):\n",
    "        return f\"Account Number: {self.account_number}, Balance: ${self.balance}\"\n",
    "\n",
    "class SavingsAccount(BankAccount):\n",
    "    def __init__(self, account_number, balance, interest_rate):\n",
    "        super().__init__(account_number, balance)\n",
    "        self.interest_rate = interest_rate\n",
    "\n",
    "    def calculate_interest(self):\n",
    "        return self.balance * (self.interest_rate / 100)\n",
    "\n",
    "class CheckingAccount(BankAccount):\n",
    "    def __init__(self, account_number, balance, monthly_fee):\n",
    "        super().__init__(account_number, balance)\n",
    "        self.monthly_fee = monthly_fee\n",
    "\n",
    "    def deduct_fees(self):\n",
    "        self.balance -= self.monthly_fee\n",
    "\n",
    "\n",
    "\n"
   ]
  },
  {
   "cell_type": "code",
   "execution_count": 90,
   "id": "30f8b7b6",
   "metadata": {},
   "outputs": [
    {
     "name": "stdout",
     "output_type": "stream",
     "text": [
      "Account Number: 12345, Balance: $1000\n",
      "Interest: 25.0\n"
     ]
    }
   ],
   "source": [
    "savings_account = SavingsAccount(\"12345\", 1000, 2.5)\n",
    "print(savings_account.display_info())\n",
    "print(\"Interest:\", savings_account.calculate_interest())\n",
    "\n"
   ]
  },
  {
   "cell_type": "code",
   "execution_count": 91,
   "id": "2132a6fa",
   "metadata": {},
   "outputs": [
    {
     "name": "stdout",
     "output_type": "stream",
     "text": [
      "Account Number: 54321, Balance: $500\n",
      "After fees deduction: Account Number: 54321, Balance: $490\n"
     ]
    }
   ],
   "source": [
    "checking_account = CheckingAccount(\"54321\", 500, 10)\n",
    "print(checking_account.display_info())\n",
    "checking_account.deduct_fees()\n",
    "print(\"After fees deduction:\", checking_account.display_info())"
   ]
  },
  {
   "cell_type": "code",
   "execution_count": null,
   "id": "3706db9b",
   "metadata": {},
   "outputs": [],
   "source": []
  }
 ],
 "metadata": {
  "kernelspec": {
   "display_name": "Python 3 (ipykernel)",
   "language": "python",
   "name": "python3"
  },
  "language_info": {
   "codemirror_mode": {
    "name": "ipython",
    "version": 3
   },
   "file_extension": ".py",
   "mimetype": "text/x-python",
   "name": "python",
   "nbconvert_exporter": "python",
   "pygments_lexer": "ipython3",
   "version": "3.11.3"
  }
 },
 "nbformat": 4,
 "nbformat_minor": 5
}
